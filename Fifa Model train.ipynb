{
 "cells": [
  {
   "cell_type": "markdown",
   "metadata": {},
   "source": [
    "## Importing the Libraries"
   ]
  },
  {
   "cell_type": "code",
   "execution_count": 1,
   "metadata": {},
   "outputs": [],
   "source": [
    "import numpy as np\n",
    "import pandas as pd\n",
    "from sklearn.model_selection import train_test_split\n",
    "from sklearn.metrics import r2_score, mean_squared_error\n",
    "from sklearn.linear_model import LinearRegression\n",
    "from sklearn.tree import DecisionTreeClassifier\n",
    "from sklearn.svm import SVR"
   ]
  },
  {
   "cell_type": "markdown",
   "metadata": {},
   "source": [
    "## Collecting the data"
   ]
  },
  {
   "cell_type": "code",
   "execution_count": 27,
   "metadata": {},
   "outputs": [],
   "source": [
    "GK_2017 = pd.read_csv('train.csv')"
   ]
  },
  {
   "cell_type": "markdown",
   "metadata": {},
   "source": [
    "## Data Cleaning"
   ]
  },
  {
   "cell_type": "code",
   "execution_count": 28,
   "metadata": {},
   "outputs": [],
   "source": [
    "GK_2017.drop('Acceleration', inplace = True, axis = 1)"
   ]
  },
  {
   "cell_type": "code",
   "execution_count": 29,
   "metadata": {},
   "outputs": [
    {
     "name": "stdout",
     "output_type": "stream",
     "text": [
      "<class 'pandas.core.frame.DataFrame'>\n",
      "RangeIndex: 33816 entries, 0 to 33815\n",
      "Data columns (total 36 columns):\n",
      "Age                   33816 non-null int64\n",
      "Aggression            33816 non-null int64\n",
      "Agility               33816 non-null int64\n",
      "Attacking_Position    33816 non-null int64\n",
      "Balance               33816 non-null int64\n",
      "Ball_Control          33816 non-null int64\n",
      "Composure             33816 non-null int64\n",
      "Crossing              33816 non-null int64\n",
      "Curve                 33816 non-null int64\n",
      "Dribbling             33816 non-null int64\n",
      "Finishing             33816 non-null int64\n",
      "Freekick_Accuracy     33816 non-null int64\n",
      "GK_Diving             33816 non-null int64\n",
      "GK_Handling           33816 non-null int64\n",
      "GK_Kicking            33816 non-null int64\n",
      "GK_Positioning        33816 non-null int64\n",
      "GK_Reflexes           33816 non-null int64\n",
      "Heading               33816 non-null int64\n",
      "Interceptions         33816 non-null int64\n",
      "Jumping               33816 non-null int64\n",
      "Long_Pass             33816 non-null int64\n",
      "Long_Shots            33816 non-null int64\n",
      "Marking               33816 non-null int64\n",
      "Penalties             33816 non-null int64\n",
      "Preferred             33816 non-null int64\n",
      "Rating                33816 non-null int64\n",
      "Reactions             33816 non-null int64\n",
      "Short_Pass            33816 non-null int64\n",
      "Shot_Power            33816 non-null int64\n",
      "Sliding_Tackle        33816 non-null int64\n",
      "Sprint                33816 non-null int64\n",
      "Stamina               33816 non-null int64\n",
      "Standing_Tackle       33816 non-null int64\n",
      "Strength              33816 non-null int64\n",
      "Vision                33816 non-null int64\n",
      "Volleys               33816 non-null int64\n",
      "dtypes: int64(36)\n",
      "memory usage: 9.3 MB\n"
     ]
    }
   ],
   "source": [
    "GK_2017.info()"
   ]
  },
  {
   "cell_type": "code",
   "execution_count": 30,
   "metadata": {},
   "outputs": [],
   "source": [
    "Y_GK_2017 = GK_2017['Rating']"
   ]
  },
  {
   "cell_type": "code",
   "execution_count": 23,
   "metadata": {},
   "outputs": [
    {
     "data": {
      "text/plain": [
       "0    92\n",
       "1    90\n",
       "2    90\n",
       "3    89\n",
       "4    89\n",
       "Name: Rating, dtype: int64"
      ]
     },
     "execution_count": 23,
     "metadata": {},
     "output_type": "execute_result"
    }
   ],
   "source": [
    "Y_GK_2017.head()"
   ]
  },
  {
   "cell_type": "code",
   "execution_count": 31,
   "metadata": {},
   "outputs": [],
   "source": [
    "X_GK_2017 = GK_2017[['Preferred', 'Age','Aggression', 'Agility',\n",
    "       'Balance', 'Ball_Control', 'Composure', 'Crossing', 'Curve', 'Dribbling', 'Finishing',\n",
    "       'Freekick_Accuracy', 'GK_Diving', 'GK_Handling', 'GK_Kicking', 'GK_Positioning',\n",
    "       'GK_Reflexes', 'Heading', 'Interceptions', 'Jumping', 'Long_Pass', 'Long_Shots', 'Marking',\n",
    "       'Penalties','Attacking_Position', 'Reactions', 'Short_Pass', 'Shot_Power', 'Sliding_Tackle', 'Sprint', 'Stamina',\n",
    "       'Standing_Tackle', 'Strength', 'Vision', 'Volleys']]"
   ]
  },
  {
   "cell_type": "code",
   "execution_count": 32,
   "metadata": {},
   "outputs": [],
   "source": [
    "X_train, X_test, y_train, y_test = train_test_split(X_GK_2017, Y_GK_2017, test_size = 0.2, random_state = 1)"
   ]
  },
  {
   "cell_type": "markdown",
   "metadata": {},
   "source": [
    "## Random Forest Classifier"
   ]
  },
  {
   "cell_type": "code",
   "execution_count": 33,
   "metadata": {
    "scrolled": true
   },
   "outputs": [
    {
     "data": {
      "text/plain": [
       "RandomForestRegressor(bootstrap=True, criterion='mse', max_depth=None,\n",
       "                      max_features='auto', max_leaf_nodes=None,\n",
       "                      min_impurity_decrease=0.0, min_impurity_split=None,\n",
       "                      min_samples_leaf=1, min_samples_split=2,\n",
       "                      min_weight_fraction_leaf=0.0, n_estimators=1000,\n",
       "                      n_jobs=None, oob_score=False, random_state=42, verbose=0,\n",
       "                      warm_start=False)"
      ]
     },
     "execution_count": 33,
     "metadata": {},
     "output_type": "execute_result"
    }
   ],
   "source": [
    "# Import the model we are using\n",
    "from sklearn.ensemble import RandomForestRegressor\n",
    "# Instantiate model with 1000 decision trees\n",
    "rf = RandomForestRegressor(n_estimators = 1000, random_state = 42)\n",
    "# Train the model on training data\n",
    "rf.fit(X_train, y_train)"
   ]
  },
  {
   "cell_type": "code",
   "execution_count": 34,
   "metadata": {},
   "outputs": [
    {
     "name": "stderr",
     "output_type": "stream",
     "text": [
      "C:\\Users\\hp\\Anaconda3\\lib\\site-packages\\sklearn\\externals\\joblib\\__init__.py:15: DeprecationWarning: sklearn.externals.joblib is deprecated in 0.21 and will be removed in 0.23. Please import this functionality directly from joblib, which can be installed with: pip install joblib. If this warning is raised when loading pickled models, you may need to re-serialize those models with scikit-learn 0.21+.\n",
      "  warnings.warn(msg, category=DeprecationWarning)\n"
     ]
    }
   ],
   "source": [
    "from sklearn.externals import joblib"
   ]
  },
  {
   "cell_type": "code",
   "execution_count": 35,
   "metadata": {},
   "outputs": [
    {
     "data": {
      "text/plain": [
       "['RFC.sav']"
      ]
     },
     "execution_count": 35,
     "metadata": {},
     "output_type": "execute_result"
    }
   ],
   "source": [
    "joblib.dump(rf, 'RFC.sav')"
   ]
  },
  {
   "cell_type": "code",
   "execution_count": null,
   "metadata": {},
   "outputs": [],
   "source": []
  }
 ],
 "metadata": {
  "kernelspec": {
   "display_name": "Python 3",
   "language": "python",
   "name": "python3"
  },
  "language_info": {
   "codemirror_mode": {
    "name": "ipython",
    "version": 3
   },
   "file_extension": ".py",
   "mimetype": "text/x-python",
   "name": "python",
   "nbconvert_exporter": "python",
   "pygments_lexer": "ipython3",
   "version": "3.7.3"
  }
 },
 "nbformat": 4,
 "nbformat_minor": 2
}
