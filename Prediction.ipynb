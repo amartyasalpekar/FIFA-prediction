{
 "cells": [
  {
   "cell_type": "markdown",
   "metadata": {},
   "source": [
    "## Importing the Libraries"
   ]
  },
  {
   "cell_type": "code",
   "execution_count": 59,
   "metadata": {},
   "outputs": [],
   "source": [
    "import numpy as np\n",
    "import pandas as pd\n",
    "import matplotlib.pyplot as plt\n",
    "%matplotlib inline"
   ]
  },
  {
   "cell_type": "markdown",
   "metadata": {},
   "source": [
    "## Collecting the data"
   ]
  },
  {
   "cell_type": "code",
   "execution_count": 70,
   "metadata": {},
   "outputs": [],
   "source": [
    "data_2019 = pd.read_csv('test.csv')"
   ]
  },
  {
   "cell_type": "code",
   "execution_count": 71,
   "metadata": {},
   "outputs": [],
   "source": [
    "data_2019 = data_2019.dropna(how='any',axis=0) "
   ]
  },
  {
   "cell_type": "code",
   "execution_count": 72,
   "metadata": {},
   "outputs": [
    {
     "name": "stdout",
     "output_type": "stream",
     "text": [
      "<class 'pandas.core.frame.DataFrame'>\n",
      "Int64Index: 18159 entries, 0 to 18206\n",
      "Data columns (total 37 columns):\n",
      "Rating                18159 non-null int64\n",
      "Preferred             18159 non-null int64\n",
      "Acceleration          18159 non-null float64\n",
      "Age                   18159 non-null int64\n",
      "Aggression            18159 non-null float64\n",
      "Agility               18159 non-null float64\n",
      "Balance               18159 non-null float64\n",
      "Ball_Control          18159 non-null float64\n",
      "Composure             18159 non-null float64\n",
      "Crossing              18159 non-null float64\n",
      "Curve                 18159 non-null float64\n",
      "Dribbling             18159 non-null float64\n",
      "Finishing             18159 non-null float64\n",
      "Freekick_Accuracy     18159 non-null float64\n",
      "GK_Diving             18159 non-null float64\n",
      "GK_Handling           18159 non-null float64\n",
      "GK_Kicking            18159 non-null float64\n",
      "GK_Positioning        18159 non-null float64\n",
      "GK_Reflexes           18159 non-null float64\n",
      "Heading               18159 non-null float64\n",
      "Interceptions         18159 non-null float64\n",
      "Jumping               18159 non-null float64\n",
      "Long_Pass             18159 non-null float64\n",
      "Long_Shots            18159 non-null float64\n",
      "Marking               18159 non-null float64\n",
      "Penalties             18159 non-null float64\n",
      "Attacking_Position    18159 non-null float64\n",
      "Reactions             18159 non-null float64\n",
      "Short_Pass            18159 non-null float64\n",
      "Shot_Power            18159 non-null float64\n",
      "Sliding_Tackle        18159 non-null float64\n",
      "Sprint                18159 non-null float64\n",
      "Stamina               18159 non-null float64\n",
      "Standing_Tackle       18159 non-null float64\n",
      "Strength              18159 non-null float64\n",
      "Vision                18159 non-null float64\n",
      "Volleys               18159 non-null float64\n",
      "dtypes: float64(34), int64(3)\n",
      "memory usage: 5.3 MB\n"
     ]
    }
   ],
   "source": [
    "data_2019.info()"
   ]
  },
  {
   "cell_type": "code",
   "execution_count": 50,
   "metadata": {},
   "outputs": [],
   "source": [
    "Y_2019 = data_2019['Rating']"
   ]
  },
  {
   "cell_type": "code",
   "execution_count": 51,
   "metadata": {},
   "outputs": [
    {
     "data": {
      "text/plain": [
       "0    94\n",
       "1    94\n",
       "2    92\n",
       "3    91\n",
       "4    91\n",
       "Name: Rating, dtype: int64"
      ]
     },
     "execution_count": 51,
     "metadata": {},
     "output_type": "execute_result"
    }
   ],
   "source": [
    "Y_2019.head()"
   ]
  },
  {
   "cell_type": "code",
   "execution_count": 52,
   "metadata": {},
   "outputs": [],
   "source": [
    "X_2019 = data_2019[['Preferred','Age','Acceleration','Aggression','Agility','Attacking_Position',\n",
    "                   'Balance','Ball_Control','Composure','Crossing','Curve','Dribbling','Finishing','Freekick_Accuracy',\n",
    "                   'GK_Diving','GK_Handling','GK_Kicking','GK_Positioning','GK_Reflexes',\n",
    "                   'Heading','Interceptions','Jumping','Long_Pass','Long_Shots','Marking',\n",
    "                   'Penalties','Reactions','Short_Pass','Shot_Power','Sliding_Tackle',\n",
    "                   'Sprint','Stamina','Standing_Tackle','Strength','Vision','Volleys']]"
   ]
  },
  {
   "cell_type": "code",
   "execution_count": 53,
   "metadata": {},
   "outputs": [
    {
     "name": "stderr",
     "output_type": "stream",
     "text": [
      "C:\\Users\\hp\\Anaconda3\\lib\\site-packages\\pandas\\core\\frame.py:4102: SettingWithCopyWarning: \n",
      "A value is trying to be set on a copy of a slice from a DataFrame\n",
      "\n",
      "See the caveats in the documentation: http://pandas.pydata.org/pandas-docs/stable/user_guide/indexing.html#returning-a-view-versus-a-copy\n",
      "  errors=errors,\n"
     ]
    }
   ],
   "source": [
    "X_2019.drop('Acceleration', inplace = True, axis = 1)"
   ]
  },
  {
   "cell_type": "code",
   "execution_count": 54,
   "metadata": {},
   "outputs": [
    {
     "data": {
      "text/html": [
       "<div>\n",
       "<style scoped>\n",
       "    .dataframe tbody tr th:only-of-type {\n",
       "        vertical-align: middle;\n",
       "    }\n",
       "\n",
       "    .dataframe tbody tr th {\n",
       "        vertical-align: top;\n",
       "    }\n",
       "\n",
       "    .dataframe thead th {\n",
       "        text-align: right;\n",
       "    }\n",
       "</style>\n",
       "<table border=\"1\" class=\"dataframe\">\n",
       "  <thead>\n",
       "    <tr style=\"text-align: right;\">\n",
       "      <th></th>\n",
       "      <th>Preferred</th>\n",
       "      <th>Age</th>\n",
       "      <th>Aggression</th>\n",
       "      <th>Agility</th>\n",
       "      <th>Attacking_Position</th>\n",
       "      <th>Balance</th>\n",
       "      <th>Ball_Control</th>\n",
       "      <th>Composure</th>\n",
       "      <th>Crossing</th>\n",
       "      <th>Curve</th>\n",
       "      <th>...</th>\n",
       "      <th>Reactions</th>\n",
       "      <th>Short_Pass</th>\n",
       "      <th>Shot_Power</th>\n",
       "      <th>Sliding_Tackle</th>\n",
       "      <th>Sprint</th>\n",
       "      <th>Stamina</th>\n",
       "      <th>Standing_Tackle</th>\n",
       "      <th>Strength</th>\n",
       "      <th>Vision</th>\n",
       "      <th>Volleys</th>\n",
       "    </tr>\n",
       "  </thead>\n",
       "  <tbody>\n",
       "    <tr>\n",
       "      <td>0</td>\n",
       "      <td>0</td>\n",
       "      <td>31</td>\n",
       "      <td>48.0</td>\n",
       "      <td>91.0</td>\n",
       "      <td>94.0</td>\n",
       "      <td>95.0</td>\n",
       "      <td>96.0</td>\n",
       "      <td>96.0</td>\n",
       "      <td>84.0</td>\n",
       "      <td>93.0</td>\n",
       "      <td>...</td>\n",
       "      <td>95.0</td>\n",
       "      <td>90.0</td>\n",
       "      <td>85.0</td>\n",
       "      <td>26.0</td>\n",
       "      <td>86.0</td>\n",
       "      <td>72.0</td>\n",
       "      <td>28.0</td>\n",
       "      <td>59.0</td>\n",
       "      <td>94.0</td>\n",
       "      <td>86.0</td>\n",
       "    </tr>\n",
       "    <tr>\n",
       "      <td>1</td>\n",
       "      <td>1</td>\n",
       "      <td>33</td>\n",
       "      <td>63.0</td>\n",
       "      <td>87.0</td>\n",
       "      <td>95.0</td>\n",
       "      <td>70.0</td>\n",
       "      <td>94.0</td>\n",
       "      <td>95.0</td>\n",
       "      <td>84.0</td>\n",
       "      <td>81.0</td>\n",
       "      <td>...</td>\n",
       "      <td>96.0</td>\n",
       "      <td>81.0</td>\n",
       "      <td>95.0</td>\n",
       "      <td>23.0</td>\n",
       "      <td>91.0</td>\n",
       "      <td>88.0</td>\n",
       "      <td>31.0</td>\n",
       "      <td>79.0</td>\n",
       "      <td>82.0</td>\n",
       "      <td>87.0</td>\n",
       "    </tr>\n",
       "    <tr>\n",
       "      <td>2</td>\n",
       "      <td>2</td>\n",
       "      <td>26</td>\n",
       "      <td>56.0</td>\n",
       "      <td>96.0</td>\n",
       "      <td>89.0</td>\n",
       "      <td>84.0</td>\n",
       "      <td>95.0</td>\n",
       "      <td>94.0</td>\n",
       "      <td>79.0</td>\n",
       "      <td>88.0</td>\n",
       "      <td>...</td>\n",
       "      <td>94.0</td>\n",
       "      <td>84.0</td>\n",
       "      <td>80.0</td>\n",
       "      <td>33.0</td>\n",
       "      <td>90.0</td>\n",
       "      <td>81.0</td>\n",
       "      <td>24.0</td>\n",
       "      <td>49.0</td>\n",
       "      <td>87.0</td>\n",
       "      <td>84.0</td>\n",
       "    </tr>\n",
       "    <tr>\n",
       "      <td>3</td>\n",
       "      <td>3</td>\n",
       "      <td>27</td>\n",
       "      <td>38.0</td>\n",
       "      <td>60.0</td>\n",
       "      <td>12.0</td>\n",
       "      <td>43.0</td>\n",
       "      <td>42.0</td>\n",
       "      <td>68.0</td>\n",
       "      <td>17.0</td>\n",
       "      <td>21.0</td>\n",
       "      <td>...</td>\n",
       "      <td>90.0</td>\n",
       "      <td>50.0</td>\n",
       "      <td>31.0</td>\n",
       "      <td>13.0</td>\n",
       "      <td>58.0</td>\n",
       "      <td>43.0</td>\n",
       "      <td>21.0</td>\n",
       "      <td>64.0</td>\n",
       "      <td>68.0</td>\n",
       "      <td>13.0</td>\n",
       "    </tr>\n",
       "    <tr>\n",
       "      <td>4</td>\n",
       "      <td>4</td>\n",
       "      <td>27</td>\n",
       "      <td>76.0</td>\n",
       "      <td>79.0</td>\n",
       "      <td>87.0</td>\n",
       "      <td>77.0</td>\n",
       "      <td>91.0</td>\n",
       "      <td>88.0</td>\n",
       "      <td>93.0</td>\n",
       "      <td>85.0</td>\n",
       "      <td>...</td>\n",
       "      <td>91.0</td>\n",
       "      <td>92.0</td>\n",
       "      <td>91.0</td>\n",
       "      <td>51.0</td>\n",
       "      <td>76.0</td>\n",
       "      <td>90.0</td>\n",
       "      <td>58.0</td>\n",
       "      <td>75.0</td>\n",
       "      <td>94.0</td>\n",
       "      <td>82.0</td>\n",
       "    </tr>\n",
       "  </tbody>\n",
       "</table>\n",
       "<p>5 rows × 35 columns</p>\n",
       "</div>"
      ],
      "text/plain": [
       "   Preferred  Age  Aggression  Agility  Attacking_Position  Balance  \\\n",
       "0          0   31        48.0     91.0                94.0     95.0   \n",
       "1          1   33        63.0     87.0                95.0     70.0   \n",
       "2          2   26        56.0     96.0                89.0     84.0   \n",
       "3          3   27        38.0     60.0                12.0     43.0   \n",
       "4          4   27        76.0     79.0                87.0     77.0   \n",
       "\n",
       "   Ball_Control  Composure  Crossing  Curve  ...  Reactions  Short_Pass  \\\n",
       "0          96.0       96.0      84.0   93.0  ...       95.0        90.0   \n",
       "1          94.0       95.0      84.0   81.0  ...       96.0        81.0   \n",
       "2          95.0       94.0      79.0   88.0  ...       94.0        84.0   \n",
       "3          42.0       68.0      17.0   21.0  ...       90.0        50.0   \n",
       "4          91.0       88.0      93.0   85.0  ...       91.0        92.0   \n",
       "\n",
       "   Shot_Power  Sliding_Tackle  Sprint  Stamina  Standing_Tackle  Strength  \\\n",
       "0        85.0            26.0    86.0     72.0             28.0      59.0   \n",
       "1        95.0            23.0    91.0     88.0             31.0      79.0   \n",
       "2        80.0            33.0    90.0     81.0             24.0      49.0   \n",
       "3        31.0            13.0    58.0     43.0             21.0      64.0   \n",
       "4        91.0            51.0    76.0     90.0             58.0      75.0   \n",
       "\n",
       "   Vision  Volleys  \n",
       "0    94.0     86.0  \n",
       "1    82.0     87.0  \n",
       "2    87.0     84.0  \n",
       "3    68.0     13.0  \n",
       "4    94.0     82.0  \n",
       "\n",
       "[5 rows x 35 columns]"
      ]
     },
     "execution_count": 54,
     "metadata": {},
     "output_type": "execute_result"
    }
   ],
   "source": [
    "X_2019.head()"
   ]
  },
  {
   "cell_type": "code",
   "execution_count": 55,
   "metadata": {},
   "outputs": [],
   "source": [
    "from sklearn.externals import joblib"
   ]
  },
  {
   "cell_type": "code",
   "execution_count": 12,
   "metadata": {},
   "outputs": [],
   "source": [
    "model = joblib.load('RFC.sav')"
   ]
  },
  {
   "cell_type": "code",
   "execution_count": 56,
   "metadata": {},
   "outputs": [],
   "source": [
    "predictions = model.predict(X_2019)"
   ]
  },
  {
   "cell_type": "code",
   "execution_count": 65,
   "metadata": {},
   "outputs": [
    {
     "name": "stdout",
     "output_type": "stream",
     "text": [
      "[91.59  82.263 87.287 84.348 85.612 90.232 89.192 85.921 84.213 81.708]\n",
      "0    94\n",
      "1    94\n",
      "2    92\n",
      "3    91\n",
      "4    91\n",
      "5    91\n",
      "6    91\n",
      "7    91\n",
      "8    91\n",
      "9    90\n",
      "Name: Rating, dtype: int64\n"
     ]
    }
   ],
   "source": [
    "print(predictions[:10])\n",
    "print(Y_2019[:10])"
   ]
  },
  {
   "cell_type": "code",
   "execution_count": 57,
   "metadata": {},
   "outputs": [
    {
     "name": "stdout",
     "output_type": "stream",
     "text": [
      "Mean Squared Error: 13.423660564196474 degrees.\n"
     ]
    }
   ],
   "source": [
    "from sklearn.metrics import mean_squared_error\n",
    "errors = abs(predictions - Y_2019)\n",
    "# Print out the mean absolute error (mae)\n",
    "print('Mean Squared Error:', mean_squared_error(predictions, Y_2019), 'degrees.')"
   ]
  },
  {
   "cell_type": "code",
   "execution_count": 58,
   "metadata": {},
   "outputs": [
    {
     "name": "stdout",
     "output_type": "stream",
     "text": [
      "Accuracy: 95.5 %.\n"
     ]
    }
   ],
   "source": [
    "mape = 100 * (errors / Y_2019)\n",
    "# Calculate and display accuracy\n",
    "accuracy = 100 - np.mean(mape)\n",
    "print('Accuracy:', round(accuracy, 2),'%.')"
   ]
  },
  {
   "cell_type": "code",
   "execution_count": 62,
   "metadata": {},
   "outputs": [
    {
     "data": {
      "text/plain": [
       "[<matplotlib.lines.Line2D at 0x1c99e266780>]"
      ]
     },
     "execution_count": 62,
     "metadata": {},
     "output_type": "execute_result"
    },
    {
     "data": {
      "image/png": "[encoded data removed]",
      "text/plain": [
       "<Figure size 1296x1080 with 1 Axes>"
      ]
     },
     "metadata": {
      "needs_background": "light"
     },
     "output_type": "display_data"
    }
   ],
   "source": [
    "plt.figure(figsize = (18,15))\n",
    "plt.plot(predictions, Y_2019)"
   ]
  },
  {
   "cell_type": "code",
   "execution_count": 66,
   "metadata": {},
   "outputs": [],
   "source": [
    "fifa = pd.read_csv('combined_csv - 2018.csv')"
   ]
  },
  {
   "cell_type": "code",
   "execution_count": 68,
   "metadata": {},
   "outputs": [],
   "source": [
    "y_18 = fifa['Rating']"
   ]
  },
  {
   "cell_type": "code",
   "execution_count": 69,
   "metadata": {},
   "outputs": [
    {
     "name": "stdout",
     "output_type": "stream",
     "text": [
      "0    94\n",
      "1    92\n",
      "2    91\n",
      "3    90\n",
      "4    89\n",
      "5    88\n",
      "6    88\n",
      "7    88\n",
      "8    87\n",
      "9    86\n",
      "Name: Rating, dtype: int64\n",
      "0    94\n",
      "1    94\n",
      "2    92\n",
      "3    91\n",
      "4    91\n",
      "5    91\n",
      "6    91\n",
      "7    91\n",
      "8    91\n",
      "9    90\n",
      "Name: Rating, dtype: int64\n",
      "[91.59  82.263 87.287 84.348 85.612 90.232 89.192 85.921 84.213 81.708]\n"
     ]
    }
   ],
   "source": [
    "print(y_18[:10])\n",
    "print(Y_2019[:10])\n",
    "print(predictions[:10])"
   ]
  },
  {
   "cell_type": "code",
   "execution_count": 75,
   "metadata": {},
   "outputs": [],
   "source": [
    "file = pd.DataFrame([predictions, Y_2019])"
   ]
  },
  {
   "cell_type": "code",
   "execution_count": 76,
   "metadata": {},
   "outputs": [
    {
     "data": {
      "text/html": [
       "<div>\n",
       "<style scoped>\n",
       "    .dataframe tbody tr th:only-of-type {\n",
       "        vertical-align: middle;\n",
       "    }\n",
       "\n",
       "    .dataframe tbody tr th {\n",
       "        vertical-align: top;\n",
       "    }\n",
       "\n",
       "    .dataframe thead th {\n",
       "        text-align: right;\n",
       "    }\n",
       "</style>\n",
       "<table border=\"1\" class=\"dataframe\">\n",
       "  <thead>\n",
       "    <tr style=\"text-align: right;\">\n",
       "      <th></th>\n",
       "      <th>0</th>\n",
       "      <th>1</th>\n",
       "      <th>2</th>\n",
       "      <th>3</th>\n",
       "      <th>4</th>\n",
       "      <th>5</th>\n",
       "      <th>6</th>\n",
       "      <th>7</th>\n",
       "      <th>8</th>\n",
       "      <th>9</th>\n",
       "      <th>...</th>\n",
       "      <th>18149</th>\n",
       "      <th>18150</th>\n",
       "      <th>18151</th>\n",
       "      <th>18152</th>\n",
       "      <th>18153</th>\n",
       "      <th>18154</th>\n",
       "      <th>18155</th>\n",
       "      <th>18156</th>\n",
       "      <th>18157</th>\n",
       "      <th>18158</th>\n",
       "    </tr>\n",
       "  </thead>\n",
       "  <tbody>\n",
       "    <tr>\n",
       "      <td>0</td>\n",
       "      <td>91.59</td>\n",
       "      <td>82.263</td>\n",
       "      <td>87.287</td>\n",
       "      <td>84.348</td>\n",
       "      <td>85.612</td>\n",
       "      <td>90.232</td>\n",
       "      <td>89.192</td>\n",
       "      <td>85.921</td>\n",
       "      <td>84.213</td>\n",
       "      <td>81.708</td>\n",
       "      <td>...</td>\n",
       "      <td>56.307</td>\n",
       "      <td>50.98</td>\n",
       "      <td>52.69</td>\n",
       "      <td>60.696</td>\n",
       "      <td>49.726</td>\n",
       "      <td>58.77</td>\n",
       "      <td>51.338</td>\n",
       "      <td>55.94</td>\n",
       "      <td>58.538</td>\n",
       "      <td>55.432</td>\n",
       "    </tr>\n",
       "    <tr>\n",
       "      <td>1</td>\n",
       "      <td>94.00</td>\n",
       "      <td>94.000</td>\n",
       "      <td>92.000</td>\n",
       "      <td>91.000</td>\n",
       "      <td>91.000</td>\n",
       "      <td>91.000</td>\n",
       "      <td>91.000</td>\n",
       "      <td>91.000</td>\n",
       "      <td>91.000</td>\n",
       "      <td>90.000</td>\n",
       "      <td>...</td>\n",
       "      <td>47.000</td>\n",
       "      <td>47.00</td>\n",
       "      <td>47.00</td>\n",
       "      <td>47.000</td>\n",
       "      <td>47.000</td>\n",
       "      <td>47.00</td>\n",
       "      <td>47.000</td>\n",
       "      <td>47.00</td>\n",
       "      <td>47.000</td>\n",
       "      <td>46.000</td>\n",
       "    </tr>\n",
       "  </tbody>\n",
       "</table>\n",
       "<p>2 rows × 18159 columns</p>\n",
       "</div>"
      ],
      "text/plain": [
       "   0       1       2       3       4       5       6       7       8      \\\n",
       "0  91.59  82.263  87.287  84.348  85.612  90.232  89.192  85.921  84.213   \n",
       "1  94.00  94.000  92.000  91.000  91.000  91.000  91.000  91.000  91.000   \n",
       "\n",
       "    9      ...   18149  18150  18151   18152   18153  18154   18155  18156  \\\n",
       "0  81.708  ...  56.307  50.98  52.69  60.696  49.726  58.77  51.338  55.94   \n",
       "1  90.000  ...  47.000  47.00  47.00  47.000  47.000  47.00  47.000  47.00   \n",
       "\n",
       "    18157   18158  \n",
       "0  58.538  55.432  \n",
       "1  47.000  46.000  \n",
       "\n",
       "[2 rows x 18159 columns]"
      ]
     },
     "execution_count": 76,
     "metadata": {},
     "output_type": "execute_result"
    }
   ],
   "source": [
    "file"
   ]
  },
  {
   "cell_type": "code",
   "execution_count": null,
   "metadata": {},
   "outputs": [],
   "source": []
  }
 ],
 "metadata": {
  "kernelspec": {
   "display_name": "Python 3",
   "language": "python",
   "name": "python3"
  },
  "language_info": {
   "codemirror_mode": {
    "name": "ipython",
    "version": 3
   },
   "file_extension": ".py",
   "mimetype": "text/x-python",
   "name": "python",
   "nbconvert_exporter": "python",
   "pygments_lexer": "ipython3",
   "version": "3.7.3"
  }
 },
 "nbformat": 4,
 "nbformat_minor": 2
}
